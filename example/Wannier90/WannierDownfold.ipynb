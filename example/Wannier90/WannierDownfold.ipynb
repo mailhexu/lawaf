{
 "cells": [
  {
   "cell_type": "code",
   "execution_count": null,
   "id": "9967a982",
   "metadata": {},
   "outputs": [],
   "source": []
  },
  {
   "cell_type": "code",
   "execution_count": null,
   "id": "5951f375",
   "metadata": {},
   "outputs": [],
   "source": []
  },
  {
   "cell_type": "code",
   "execution_count": 3,
   "id": "df6b84d1",
   "metadata": {},
   "outputs": [
    {
     "name": "stderr",
     "output_type": "stream",
     "text": [
      "/tmp/ipykernel_212876/3028809679.py:6: DeprecationWarning: on_submit is deprecated. Instead, set the .continuous_update attribute to False and observe the value changing with: mywidget.observe(callback, 'value').\n",
      "  def Downfold_w90_hamiltonian_of_SMO(band=\"eg\", mu=9.0, sigma=3.0, weight_func=\"gauss\", use_proj=False\n"
     ]
    },
    {
     "data": {
      "application/vnd.jupyter.widget-view+json": {
       "model_id": "49bc39b1aea1409c8d16093fbb6784f3",
       "version_major": 2,
       "version_minor": 0
      },
      "text/plain": [
       "interactive(children=(Text(value='eg', description='band'), FloatSlider(value=9.0, description='mu', max=27.0,…"
      ]
     },
     "metadata": {},
     "output_type": "display_data"
    }
   ],
   "source": [
    "from lawaf import W90Downfolder\n",
    "import numpy as np\n",
    "from ipywidgets import widgets\n",
    "\n",
    "@widgets.interact_manual()\n",
    "def Downfold_w90_hamiltonian_of_SMO(band=\"eg\", mu=9.0, sigma=3.0, weight_func=\"gauss\", use_proj=False\n",
    " ):\n",
    "    # Read From Wannier90 output\n",
    "    model = W90Downfolder(folder='./SMO_wannier',\n",
    "                          prefix='abinito_w90_down')\n",
    "\n",
    "    if band==\"eg\":\n",
    "        nwann=2\n",
    "        anchors={(0, 0, 0): (12,13)}\n",
    "    elif band==\"t2g\":\n",
    "        nwann=3\n",
    "        anchors={(0, 0, 0): (9, 10,11)}\n",
    "    # Downfold the band structure.\n",
    "    model.downfold(method=\"scdmk\",\n",
    "        kmesh=(4, 4, 4),\n",
    "        nwann=nwann,\n",
    "        weight_func='Gauss',\n",
    "        mu=mu,\n",
    "        sigma=sigma,\n",
    "        selected_basis=None,\n",
    "        anchors=anchors,\n",
    "        use_proj=use_proj,\n",
    "        write_hr_nc='Downfolded_hr.nc',\n",
    "        write_hr_txt='Downfolded_hr.txt' )\n",
    "\n",
    "    # Plot the band structure.\n",
    "    model.plot_band_fitting(\n",
    "                          kvectors=np.array([[0, 0, 0], [0.5, 0, 0],\n",
    "                                             [0.5, 0.5, 0], [0, 0, 0],\n",
    "                                             [.5, .5, .5]]),\n",
    "                          knames=['$\\Gamma$', 'X', 'M', '$\\Gamma$', 'R'],\n",
    "                          supercell_matrix=None,\n",
    "                          npoints=100,\n",
    "                          efermi=None,\n",
    "                          erange=None,\n",
    "                          fullband_color='blue',\n",
    "                          downfolded_band_color='green',\n",
    "                          marker='o',\n",
    "                          ax=None,\n",
    "                          savefig='Downfolded_band.png',\n",
    "                          show=True)\n",
    " "
   ]
  },
  {
   "cell_type": "code",
   "execution_count": null,
   "id": "2c11d142",
   "metadata": {},
   "outputs": [],
   "source": []
  },
  {
   "cell_type": "code",
   "execution_count": 13,
   "id": "7d1a3313",
   "metadata": {},
   "outputs": [],
   "source": []
  },
  {
   "cell_type": "code",
   "execution_count": null,
   "id": "4eb4e521",
   "metadata": {},
   "outputs": [],
   "source": []
  }
 ],
 "metadata": {
  "kernelspec": {
   "display_name": "Python 3 (ipykernel)",
   "language": "python",
   "name": "python3"
  },
  "language_info": {
   "codemirror_mode": {
    "name": "ipython",
    "version": 3
   },
   "file_extension": ".py",
   "mimetype": "text/x-python",
   "name": "python",
   "nbconvert_exporter": "python",
   "pygments_lexer": "ipython3",
   "version": "3.10.6"
  }
 },
 "nbformat": 4,
 "nbformat_minor": 5
}
