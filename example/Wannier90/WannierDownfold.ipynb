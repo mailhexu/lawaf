{
 "cells": [
  {
   "cell_type": "code",
   "execution_count": null,
   "id": "9967a982",
   "metadata": {},
   "outputs": [],
   "source": []
  },
  {
   "cell_type": "markdown",
   "id": "16648802",
   "metadata": {},
   "source": [
    "# SCDM-k Demo (electron)\n",
    "\n",
    "Downfolding the electron Wannier model  from Mn3d+O 2p to Mn 3d only."
   ]
  },
  {
   "cell_type": "code",
   "execution_count": 4,
   "id": "df6b84d1",
   "metadata": {
    "scrolled": false
   },
   "outputs": [
    {
     "data": {
      "application/vnd.jupyter.widget-view+json": {
       "model_id": "84eb2af4e19842cca4cf9d45991ca839",
       "version_major": 2,
       "version_minor": 0
      },
      "text/plain": [
       "interactive(children=(Dropdown(description='band', options=('eg', 't2g', 'unspecified'), value='eg'), FloatSli…"
      ]
     },
     "metadata": {},
     "output_type": "display_data"
    }
   ],
   "source": [
    "from lawaf import W90Downfolder\n",
    "import numpy as np\n",
    "from ipywidgets import widgets\n",
    "\n",
    "@widgets.interact_manual(band=[\"eg\", \"t2g\", \"unspecified\"], mu=(-1, 13, 0.1),sigma=(0.0, 13, 0.1), nk=(2, 8, 1), nwann=(1, 14,1), weight_func=[\"unity\", \"Gauss\", \"Fermi\"])\n",
    "def Downfold_w90_hamiltonian_of_SMO(band=\"eg\", mu=9.0, sigma=3.0, weight_func=\"gauss\", use_proj=False, nk=4, nwann=4\n",
    " ):\n",
    "    # Read From Wannier90 output\n",
    "    model = W90Downfolder(folder='./SMO_wannier',\n",
    "                          prefix='abinito_w90_down')\n",
    "\n",
    "    if band==\"eg\":\n",
    "        nwann=2\n",
    "        anchors={(0, 0, 0): (12,13)}\n",
    "    elif band==\"t2g\":\n",
    "        nwann=3\n",
    "        anchors={(0, 0, 0): (9, 10,11)}\n",
    "    elif band==\"unspecified\":\n",
    "        nwann=nwann\n",
    "        anchors=None\n",
    "    # Downfold the band structure.\n",
    "    model.downfold(method=\"scdmk\",\n",
    "        kmesh=(nk, nk, nk),\n",
    "        nwann=nwann,\n",
    "        weight_func=weight_func,\n",
    "        mu=mu,\n",
    "        sigma=sigma,\n",
    "        selected_basis=None,\n",
    "        anchors=anchors,\n",
    "        use_proj=use_proj,\n",
    "        write_hr_nc='Downfolded_hr.nc',\n",
    "        write_hr_txt='Downfolded_hr.txt' )\n",
    "\n",
    "    # Plot the band structure.\n",
    "    model.plot_band_fitting(\n",
    "                          kvectors=np.array([[0, 0, 0], [0.5, 0, 0],\n",
    "                                             [0.5, 0.5, 0], [0, 0, 0],\n",
    "                                             [.5, .5, .5]]),\n",
    "                          knames=['$\\Gamma$', 'X', 'M', '$\\Gamma$', 'R'],\n",
    "                          supercell_matrix=None,\n",
    "                          npoints=100,\n",
    "                          efermi=None,\n",
    "                          erange=None,\n",
    "                          fullband_color='blue',\n",
    "                          downfolded_band_color='green',\n",
    "                          marker='o',\n",
    "                          ax=None,\n",
    "                          savefig='Downfolded_band.png',\n",
    "                          show=True)\n",
    " "
   ]
  },
  {
   "cell_type": "markdown",
   "id": "df361b0e",
   "metadata": {},
   "source": [
    "# Projected Wannier function Demo (electron)"
   ]
  },
  {
   "cell_type": "code",
   "execution_count": 5,
   "id": "2c11d142",
   "metadata": {},
   "outputs": [
    {
     "data": {
      "application/vnd.jupyter.widget-view+json": {
       "model_id": "3b9bb46f77fd49dbb19eb0038488acb9",
       "version_major": 2,
       "version_minor": 0
      },
      "text/plain": [
       "interactive(children=(Dropdown(description='projectors', index=1, options=('unspecified', 'eg', 't2g'), value=…"
      ]
     },
     "metadata": {},
     "output_type": "display_data"
    }
   ],
   "source": [
    "from lawaf import W90Downfolder\n",
    "import numpy as np\n",
    "from ipywidgets import widgets\n",
    "\n",
    "@widgets.interact_manual(projectors=[ \"unspecified\", \"eg\", \"t2g\",], mu=(-1, 13, 0.1),sigma=(0.0, 13, 0.1), nk=(2, 8, 1), nwann=(1, 14,1), weight_func=[\"unity\", \"Gauss\", \"Fermi\"])\n",
    "def Downfold_w90_hamiltonian_of_SMO(projectors=\"eg\", mu=9.0, sigma=3.0, weight_func=\"gauss\",  nk=4\n",
    " , selected_basis=[[1,2,4]]):\n",
    "    # Read From Wannier90 output\n",
    "    model = W90Downfolder(folder='./SMO_wannier',\n",
    "                          prefix='abinito_w90_down')\n",
    "    anchors=None\n",
    "    band=projectors\n",
    "    if band==\"eg\":\n",
    "        nwann=2\n",
    "        #anchors={(0, 0, 0): (12,13)}\n",
    "        selected_basis=[0, 3]\n",
    "    elif band==\"t2g\":\n",
    "        nwann=3\n",
    "        #anchors={(0, 0, 0): (9, 10,11)}\n",
    "        selected_basis=[1,2,4]\n",
    "    elif band==\"unspecified\":\n",
    "\n",
    "        anchors=None\n",
    "        #selected_basis=selected_basis\n",
    "    nwann=len(selected_basis)       \n",
    "    # Downfold the band structure.\n",
    "    model.downfold(method=\"projected\",\n",
    "        kmesh=(nk, nk, nk),\n",
    "        nwann=nwann,\n",
    "        weight_func=weight_func,\n",
    "        mu=mu,\n",
    "        sigma=sigma,\n",
    "        selected_basis=selected_basis,\n",
    "        anchors=anchors,\n",
    "        use_proj=False,\n",
    "        write_hr_nc='Downfolded_hr.nc',\n",
    "        write_hr_txt='Downfolded_hr.txt', \n",
    "                  )\n",
    "\n",
    "    # Plot the band structure.\n",
    "    model.plot_band_fitting(\n",
    "                          kvectors=np.array([[0, 0, 0], [0.5, 0, 0],\n",
    "                                             [0.5, 0.5, 0], [0, 0, 0],\n",
    "                                             [.5, .5, .5]]),\n",
    "                          knames=['$\\Gamma$', 'X', 'M', '$\\Gamma$', 'R'],\n",
    "                          supercell_matrix=None,\n",
    "                          npoints=100,\n",
    "                          efermi=None,\n",
    "                          erange=None,\n",
    "                          fullband_color='blue',\n",
    "                          downfolded_band_color='green',\n",
    "                          marker='o',\n",
    "                          ax=None,\n",
    "                          savefig='Downfolded_band.png',\n",
    "                          show=True)"
   ]
  },
  {
   "cell_type": "code",
   "execution_count": 13,
   "id": "7d1a3313",
   "metadata": {},
   "outputs": [],
   "source": []
  },
  {
   "cell_type": "markdown",
   "id": "287e834b",
   "metadata": {},
   "source": [
    "# Lattice Wannier function (SCDM-k)"
   ]
  },
  {
   "cell_type": "code",
   "execution_count": null,
   "id": "cff00885",
   "metadata": {},
   "outputs": [],
   "source": [
    "from lawaf import W90Downfolder\n",
    "import numpy as np\n",
    "from ipywidgets import widgets\n",
    "\n",
    "@widgets.interact_manual( mu=(-1, 13, 0.1),sigma=(0.0, 13, 0.1), nk=(2, 8, 1), nwann=(1, 14,1), weight_func=[\"unity\", \"Gauss\", \"Fermi\"])\n",
    "def Downfold_w90_hamiltonian_of_SMO(band=\"eg\", mu=9.0, sigma=3.0, weight_func=\"gauss\", use_proj=False, nk=4, nwann=4\n",
    " ):\n",
    "    \n",
    "    fname=\"/home/hexu/projects/lawaf/example/Phonopy/BaTiO3/nodip/phonopy_params.yaml\"\n",
    "\n",
    "    # Downfold the band structure.\n",
    "    model.downfold(method=\"scdmk\",\n",
    "        kmesh=(nk, nk, nk),\n",
    "        nwann=nwann,\n",
    "        weight_func=weight_func,\n",
    "        mu=mu,\n",
    "        sigma=sigma,\n",
    "        selected_basis=None,\n",
    "        anchors=anchors,\n",
    "        use_proj=use_proj,\n",
    "        write_hr_nc='Downfolded_hr.nc',\n",
    "        write_hr_txt='Downfolded_hr.txt' )\n",
    "\n",
    "    # Plot the band structure.\n",
    "    model.plot_band_fitting(\n",
    "                          kvectors=np.array([[0, 0, 0], [0.5, 0, 0],\n",
    "                                             [0.5, 0.5, 0], [0, 0, 0],\n",
    "                                             [.5, .5, .5]]),\n",
    "                          knames=['$\\Gamma$', 'X', 'M', '$\\Gamma$', 'R'],\n",
    "                          supercell_matrix=None,\n",
    "                          npoints=100,\n",
    "                          efermi=None,\n",
    "                          erange=None,\n",
    "                          fullband_color='blue',\n",
    "                          downfolded_band_color='green',\n",
    "                          marker='o',\n",
    "                          ax=None,\n",
    "                          savefig='Downfolded_band.png',\n",
    "                          show=True)\n",
    " "
   ]
  }
 ],
 "metadata": {
  "kernelspec": {
   "display_name": "Python 3 (ipykernel)",
   "language": "python",
   "name": "python3"
  },
  "language_info": {
   "codemirror_mode": {
    "name": "ipython",
    "version": 3
   },
   "file_extension": ".py",
   "mimetype": "text/x-python",
   "name": "python",
   "nbconvert_exporter": "python",
   "pygments_lexer": "ipython3",
   "version": "3.10.7"
  }
 },
 "nbformat": 4,
 "nbformat_minor": 5
}
