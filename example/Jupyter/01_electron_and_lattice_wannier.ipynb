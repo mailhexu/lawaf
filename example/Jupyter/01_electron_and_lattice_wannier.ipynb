{
 "cells": [
  {
   "cell_type": "markdown",
   "id": "644195b8",
   "metadata": {},
   "source": [
    "# LaWaF demos"
   ]
  },
  {
   "cell_type": "code",
   "execution_count": null,
   "id": "180d9d80",
   "metadata": {},
   "outputs": [],
   "source": []
  },
  {
   "cell_type": "markdown",
   "id": "46370ca5",
   "metadata": {},
   "source": [
    "# SCDM-k Demo (electron)\n",
    "\n",
    "Downfolding the electron Wannier model  from Mn3d+O 2p to Mn 3d only."
   ]
  },
  {
   "cell_type": "code",
   "execution_count": 3,
   "id": "df6b84d1",
   "metadata": {
    "scrolled": false
   },
   "outputs": [
    {
     "data": {
      "application/vnd.jupyter.widget-view+json": {
       "model_id": "5e6fa622661d4be8928e64e5b5bda2ec",
       "version_major": 2,
       "version_minor": 0
      },
      "text/plain": [
       "interactive(children=(Dropdown(description='band', options=('eg', 't2g', 'unspecified'), value='eg'), FloatSli…"
      ]
     },
     "metadata": {},
     "output_type": "display_data"
    }
   ],
   "source": [
    "from lawaf import W90Downfolder\n",
    "import numpy as np\n",
    "from ipywidgets import widgets\n",
    "\n",
    "@widgets.interact_manual(band=[\"eg\", \"t2g\", \"unspecified\"], mu=(-1, 13, 0.1),sigma=(0.0, 13, 0.1), nk=(2, 8, 1), nwann=(1, 14,1), weight_func=[ \"Gauss\", \"Fermi\", \"unity\"])\n",
    "def Downfold_w90_hamiltonian_of_SMO(band=\"eg\", mu=9.0, sigma=3.0, weight_func=\"gauss\", use_proj=False, nk=4, nwann=4\n",
    " ):\n",
    "    # Read From Wannier90 output\n",
    "    model = W90Downfolder(folder='../../example/Wannier90/SMO_wannier',\n",
    "                          prefix='abinito_w90_down')\n",
    "\n",
    "    if band==\"eg\":\n",
    "        nwann=2\n",
    "        anchors={(0, 0, 0): (12,13)}\n",
    "    elif band==\"t2g\":\n",
    "        nwann=3\n",
    "        anchors={(0, 0, 0): (9, 10,11)}\n",
    "    elif band==\"unspecified\":\n",
    "        nwann=nwann\n",
    "        anchors=None\n",
    "    # Downfold the band structure.\n",
    "    model.downfold(method=\"scdmk\",\n",
    "        kmesh=(nk, nk, nk),\n",
    "        nwann=nwann,\n",
    "        weight_func=weight_func,\n",
    "        mu=mu,\n",
    "        sigma=sigma,\n",
    "        selected_basis=None,\n",
    "        anchors=anchors,\n",
    "        use_proj=use_proj,\n",
    "        write_hr_nc='Downfolded_hr.nc',\n",
    "        write_hr_txt='Downfolded_hr.txt' )\n",
    "\n",
    "    # Plot the band structure.\n",
    "    model.plot_band_fitting(\n",
    "                          kvectors=np.array([[0, 0, 0], [0.5, 0, 0],\n",
    "                                             [0.5, 0.5, 0], [0, 0, 0],\n",
    "                                             [.5, .5, .5]]),\n",
    "                          knames=['$\\Gamma$', 'X', 'M', '$\\Gamma$', 'R'],\n",
    "                          supercell_matrix=None,\n",
    "                          npoints=100,\n",
    "                          efermi=None,\n",
    "                          erange=None,\n",
    "                          fullband_color='blue',\n",
    "                          downfolded_band_color='green',\n",
    "                          marker='o',\n",
    "                          ax=None,\n",
    "                          savefig='Downfolded_band.png',\n",
    "                          show=True)\n",
    " "
   ]
  },
  {
   "cell_type": "markdown",
   "id": "a3a5ea37",
   "metadata": {},
   "source": [
    "# Projected Wannier function Demo (electron)"
   ]
  },
  {
   "cell_type": "code",
   "execution_count": 10,
   "id": "2c11d142",
   "metadata": {},
   "outputs": [
    {
     "data": {
      "application/vnd.jupyter.widget-view+json": {
       "model_id": "f4b33cd520db4048bdeb5ba71d7b2603",
       "version_major": 2,
       "version_minor": 0
      },
      "text/plain": [
       "interactive(children=(Dropdown(description='projectors', index=1, options=('input', 'eg', 't2g'), value='eg'),…"
      ]
     },
     "metadata": {},
     "output_type": "display_data"
    }
   ],
   "source": [
    "from lawaf import W90Downfolder\n",
    "import numpy as np\n",
    "from ipywidgets import widgets\n",
    "\n",
    "@widgets.interact_manual(projectors=[ \"input\", \"eg\", \"t2g\",], mu=(-1, 13, 0.1),sigma=(0.0, 13, 0.1), nk=(2, 8, 1), nwann=(1, 14,1), weight_func=[\"unity\", \"Gauss\", \"Fermi\"])\n",
    "def Downfold_w90_hamiltonian_of_SMO(projectors=\"eg\", input_projectors=\"1 2 4\", mu=9.0, sigma=3.0, weight_func=\"gauss\",  nk=4\n",
    " ):\n",
    "    # Read From Wannier90 output\n",
    "    model = W90Downfolder(folder='../../example/Wannier90/SMO_wannier',\n",
    "                          prefix='abinito_w90_down')\n",
    "    anchors=None\n",
    "    band=projectors\n",
    "    if band==\"eg\":\n",
    "        nwann=2\n",
    "        #anchors={(0, 0, 0): (12,13)}\n",
    "        selected_basis=[0, 3]\n",
    "    elif band==\"t2g\":\n",
    "        nwann=3\n",
    "        #anchors={(0, 0, 0): (9, 10,11)}\n",
    "        selected_basis=[1,2,4]\n",
    "    elif band==\"input\":\n",
    "        anchors=None\n",
    "        selected_basis=tuple(int(x) for x in input_projectors.split())\n",
    "    nwann=len(selected_basis)       \n",
    "    # Downfold the band structure.\n",
    "    model.downfold(method=\"projected\",\n",
    "        kmesh=(nk, nk, nk),\n",
    "        nwann=nwann,\n",
    "        weight_func=weight_func,\n",
    "        mu=mu,\n",
    "        sigma=sigma,\n",
    "        selected_basis=selected_basis,\n",
    "        anchors=anchors,\n",
    "        use_proj=False,\n",
    "        write_hr_nc='Downfolded_hr.nc',\n",
    "        write_hr_txt='Downfolded_hr.txt', \n",
    "                  )\n",
    "\n",
    "    # Plot the band structure.\n",
    "    model.plot_band_fitting(\n",
    "                          kvectors=np.array([[0, 0, 0], [0.5, 0, 0],\n",
    "                                             [0.5, 0.5, 0], [0, 0, 0],\n",
    "                                             [.5, .5, .5]]),\n",
    "                          knames=['$\\Gamma$', 'X', 'M', '$\\Gamma$', 'R'],\n",
    "                          supercell_matrix=None,\n",
    "                          npoints=100,\n",
    "                          efermi=None,\n",
    "                          erange=None,\n",
    "                          fullband_color='blue',\n",
    "                          downfolded_band_color='green',\n",
    "                          marker='o',\n",
    "                          ax=None,\n",
    "                          savefig='Downfolded_band.png',\n",
    "                          show=True)"
   ]
  },
  {
   "cell_type": "code",
   "execution_count": null,
   "id": "7d1a3313",
   "metadata": {},
   "outputs": [],
   "source": []
  },
  {
   "cell_type": "markdown",
   "id": "2554a560",
   "metadata": {},
   "source": [
    "# Lattice Wannier function (SCDM-k): example of BaTiO3. Without LO-TO splitting."
   ]
  },
  {
   "cell_type": "code",
   "execution_count": 7,
   "id": "6bfd8504",
   "metadata": {},
   "outputs": [
    {
     "data": {
      "application/vnd.jupyter.widget-view+json": {
       "model_id": "d1f87ac903bb43dcba4ee89d5454a064",
       "version_major": 2,
       "version_minor": 0
      },
      "text/plain": [
       "interactive(children=(Dropdown(description='anchor_k', options=('Gamma', 'X', 'M', 'R'), value='Gamma'), Text(…"
      ]
     },
     "metadata": {},
     "output_type": "display_data"
    }
   ],
   "source": [
    "from lawaf import W90Downfolder\n",
    "from lawaf.scdm import PhonopyDownfolder\n",
    "import numpy as np\n",
    "from ipywidgets import widgets\n",
    "import matplotlib.pyplot as plt\n",
    "\n",
    "\n",
    "@widgets.interact_manual( mu=(-300, 900, 1),sigma=(0.0, 900, 0.1),nk=(2, 8, 1), nwann=(1, 15,1), weight_func=[\"Gauss\", \"Fermi\",\"unity\"])\n",
    "def Downfold_phonon_of_BaTiO3(anchor_k=[\"Gamma\", \"X\", \"M\", \"R\"], phonon=\"0  1 2\", mu=-200, sigma=100, \n",
    "                              weight_func=\"gauss\", use_proj=True, nk=4, nwann=3):\n",
    "    fname=\"../../example/Phonopy/BaTiO3/nodip/phonopy_params.yaml\"\n",
    "    downfolder = PhonopyDownfolder(phonopy_yaml=fname, mode=\"DM\")\n",
    "    kdict={\"Gamma\":(0,0,0), \"X\":(.5, 0, 0), \"M\":(.5, .5, 0), \"R\":(.5,.5,.5)}\n",
    "    phonon=tuple(int(x) for x in phonon.split())\n",
    "    anchors={kdict[anchor_k]: phonon}\n",
    "    # Downfold the band structure.\n",
    "    downfolder.downfold(method=\"scdmk\",\n",
    "        kmesh=(nk, nk, nk),\n",
    "        nwann=nwann,\n",
    "        weight_func=weight_func,\n",
    "        mu=mu,\n",
    "        sigma=sigma,\n",
    "        selected_basis=None,\n",
    "        anchors=anchors,\n",
    "        use_proj=use_proj,\n",
    "        write_hr_nc='Downfolded_hr.nc',\n",
    "        write_hr_txt='Downfolded_hr.txt' )\n",
    "\n",
    "    ax = downfolder.plot_band_fitting(kvectors=np.array([[0., 0., 0.],\n",
    "                                                     [0.5, 0.0, 0.],\n",
    "                                                     [0.5, 0.5, 0.0],\n",
    "                                                     [0.5, 0.5, 0.5],\n",
    "                                                     [0.5, 0.0, 0.0],\n",
    "                                                     [0.0, 0.0, 0],\n",
    "                                                     [0.5, 0.5, 0.5]\n",
    "                                                     ]), \n",
    "                                                     npoints=300,\n",
    "                                                     unit_factor=15.6*33.6,\n",
    "                                                     ylabel=\"Frequency (cm^-1)\",\n",
    "                                                     evals_to_freq=True,\n",
    "                                  knames=['$\\\\Gamma$', 'X', 'M', 'R', 'X', '$\\\\Gamma$', \"R\"], show=False)\n",
    "    plt.savefig('LWF_BTO.pdf')\n",
    "    plt.show()\n",
    "\n",
    "\n",
    " "
   ]
  },
  {
   "cell_type": "markdown",
   "id": "d9f397d8",
   "metadata": {},
   "source": [
    "# Projected Wannier function, example of BaTiO3. "
   ]
  },
  {
   "cell_type": "code",
   "execution_count": 5,
   "id": "cffafd10",
   "metadata": {},
   "outputs": [
    {
     "data": {
      "application/vnd.jupyter.widget-view+json": {
       "model_id": "f58599512df1449091376c41c1f83271",
       "version_major": 2,
       "version_minor": 0
      },
      "text/plain": [
       "interactive(children=(Dropdown(description='anchor_k', options=('Gamma', 'X', 'M', 'R'), value='Gamma'), Text(…"
      ]
     },
     "metadata": {},
     "output_type": "display_data"
    }
   ],
   "source": [
    "from lawaf import W90Downfolder\n",
    "from lawaf.scdm import PhonopyDownfolder\n",
    "import numpy as np\n",
    "from ipywidgets import widgets\n",
    "import matplotlib.pyplot as plt\n",
    "\n",
    "\n",
    "@widgets.interact_manual( mu=(-300, 900, 1),sigma=(0.0, 900, 0.1),nk=(2, 8, 1), nwann=(1, 15,1), weight_func=[\"unity\", \"Gauss\", \"Fermi\"])\n",
    "def Downfold_phonon_of_BaTiO3(anchor_k=[\"Gamma\", \"X\", \"M\", \"R\"], phonon=\"0  1 2\", mu=-200, sigma=100, \n",
    "                              weight_func=\"gauss\", use_proj=True, nk=4, nwann=3):\n",
    "    fname=\"../../example/Phonopy/BaTiO3/nodip/phonopy_params.yaml\"\n",
    "    downfolder = PhonopyDownfolder(phonopy_yaml=fname, mode=\"DM\")\n",
    "    kdict={\"Gamma\":(0,0,0), \"X\":(.5, 0, 0), \"M\":(.5, .5, 0), \"R\":(.5,.5,.5)}\n",
    "    phonon=tuple(int(x) for x in phonon.split())\n",
    "    anchors={kdict[anchor_k]: phonon}\n",
    "    # Downfold the band structure.\n",
    "    downfolder.downfold(method=\"projected\",\n",
    "        kmesh=(nk, nk, nk),\n",
    "        nwann=nwann,\n",
    "        weight_func=weight_func,\n",
    "        mu=mu,\n",
    "        sigma=sigma,\n",
    "        selected_basis=None,\n",
    "        anchors=anchors,\n",
    "        use_proj=use_proj,\n",
    "        write_hr_nc='Downfolded_hr.nc',\n",
    "        write_hr_txt='Downfolded_hr.txt' )\n",
    "\n",
    "    ax = downfolder.plot_band_fitting(kvectors=np.array([[0., 0., 0.],\n",
    "                                                     [0.5, 0.0, 0.],\n",
    "                                                     [0.5, 0.5, 0.0],\n",
    "                                                     [0.5, 0.5, 0.5],\n",
    "                                                     [0.5, 0.0, 0.0],\n",
    "                                                     [0.0, 0.0, 0],\n",
    "                                                     [0.5, 0.5, 0.5]\n",
    "                                                     ]), \n",
    "                                                     npoints=300,\n",
    "                                                     unit_factor=15.6*33.6,\n",
    "                                                     ylabel=\"Frequency (cm^-1)\",\n",
    "                                                     evals_to_freq=True,\n",
    "                                  knames=['$\\\\Gamma$', 'X', 'M', 'R', 'X', '$\\\\Gamma$', \"R\"], show=False)\n",
    "    plt.savefig('LWF_BTO.pdf')\n",
    "    plt.show()"
   ]
  },
  {
   "cell_type": "code",
   "execution_count": null,
   "id": "616934f9",
   "metadata": {},
   "outputs": [],
   "source": []
  }
 ],
 "metadata": {
  "kernelspec": {
   "display_name": "Python 3 (ipykernel)",
   "language": "python",
   "name": "python3"
  },
  "language_info": {
   "codemirror_mode": {
    "name": "ipython",
    "version": 3
   },
   "file_extension": ".py",
   "mimetype": "text/x-python",
   "name": "python",
   "nbconvert_exporter": "python",
   "pygments_lexer": "ipython3",
   "version": "3.10.7"
  }
 },
 "nbformat": 4,
 "nbformat_minor": 5
}
